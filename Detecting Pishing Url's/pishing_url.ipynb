{
 "cells": [
  {
   "cell_type": "code",
   "execution_count": 1,
   "id": "ede2f8c1",
   "metadata": {},
   "outputs": [],
   "source": [
    " #importing numpy and pandas which are required for data-preprocessing\n",
    "\n",
    "import pandas as pd\n",
    "import numpy as np\n",
    "import seaborn as sns\n",
    "import matplotlib.pyplot as plt"
   ]
  },
  {
   "cell_type": "markdown",
   "id": "e3415765",
   "metadata": {},
   "source": [
    "# Loading the data"
   ]
  },
  {
   "cell_type": "code",
   "execution_count": 2,
   "id": "b5011d2d",
   "metadata": {},
   "outputs": [],
   "source": [
    "df=pd.read_csv(\"datathon_train.csv\")\n"
   ]
  },
  {
   "cell_type": "code",
   "execution_count": 3,
   "id": "94c67564",
   "metadata": {},
   "outputs": [],
   "source": [
    "df1=pd.read_csv(\"testing_data.csv\",header=None)"
   ]
  },
  {
   "cell_type": "code",
   "execution_count": 4,
   "id": "30c96f48",
   "metadata": {},
   "outputs": [
    {
     "data": {
      "text/html": [
       "<div>\n",
       "<style scoped>\n",
       "    .dataframe tbody tr th:only-of-type {\n",
       "        vertical-align: middle;\n",
       "    }\n",
       "\n",
       "    .dataframe tbody tr th {\n",
       "        vertical-align: top;\n",
       "    }\n",
       "\n",
       "    .dataframe thead th {\n",
       "        text-align: right;\n",
       "    }\n",
       "</style>\n",
       "<table border=\"1\" class=\"dataframe\">\n",
       "  <thead>\n",
       "    <tr style=\"text-align: right;\">\n",
       "      <th></th>\n",
       "      <th>0</th>\n",
       "    </tr>\n",
       "  </thead>\n",
       "  <tbody>\n",
       "    <tr>\n",
       "      <th>0</th>\n",
       "      <td>http://www.skofija-novomesto.si/</td>\n",
       "    </tr>\n",
       "    <tr>\n",
       "      <th>1</th>\n",
       "      <td>http://ferlafashion.com/saint/www.loginalibaba...</td>\n",
       "    </tr>\n",
       "    <tr>\n",
       "      <th>2</th>\n",
       "      <td>http://spatrendonline.hu</td>\n",
       "    </tr>\n",
       "    <tr>\n",
       "      <th>3</th>\n",
       "      <td>http://defensasur.com.ar</td>\n",
       "    </tr>\n",
       "    <tr>\n",
       "      <th>4</th>\n",
       "      <td>http://www.digitalvd.de/dvds/37399</td>\n",
       "    </tr>\n",
       "    <tr>\n",
       "      <th>...</th>\n",
       "      <td>...</td>\n",
       "    </tr>\n",
       "    <tr>\n",
       "      <th>25214</th>\n",
       "      <td>http://mohaseban.org</td>\n",
       "    </tr>\n",
       "    <tr>\n",
       "      <th>25215</th>\n",
       "      <td>https://www.la-croix.com/</td>\n",
       "    </tr>\n",
       "    <tr>\n",
       "      <th>25216</th>\n",
       "      <td>http://bit.ly/2CbFTLv</td>\n",
       "    </tr>\n",
       "    <tr>\n",
       "      <th>25217</th>\n",
       "      <td>http://beautyatjessicas.com.au/wp-content/uplo...</td>\n",
       "    </tr>\n",
       "    <tr>\n",
       "      <th>25218</th>\n",
       "      <td>http://www.la-taverne-des-aventuriers.com/t457...</td>\n",
       "    </tr>\n",
       "  </tbody>\n",
       "</table>\n",
       "<p>25219 rows × 1 columns</p>\n",
       "</div>"
      ],
      "text/plain": [
       "                                                       0\n",
       "0                       http://www.skofija-novomesto.si/\n",
       "1      http://ferlafashion.com/saint/www.loginalibaba...\n",
       "2                               http://spatrendonline.hu\n",
       "3                               http://defensasur.com.ar\n",
       "4                     http://www.digitalvd.de/dvds/37399\n",
       "...                                                  ...\n",
       "25214                               http://mohaseban.org\n",
       "25215                          https://www.la-croix.com/\n",
       "25216                              http://bit.ly/2CbFTLv\n",
       "25217  http://beautyatjessicas.com.au/wp-content/uplo...\n",
       "25218  http://www.la-taverne-des-aventuriers.com/t457...\n",
       "\n",
       "[25219 rows x 1 columns]"
      ]
     },
     "execution_count": 4,
     "metadata": {},
     "output_type": "execute_result"
    }
   ],
   "source": [
    "df1"
   ]
  },
  {
   "cell_type": "code",
   "execution_count": 5,
   "id": "7b2b557f",
   "metadata": {},
   "outputs": [
    {
     "data": {
      "text/html": [
       "<div>\n",
       "<style scoped>\n",
       "    .dataframe tbody tr th:only-of-type {\n",
       "        vertical-align: middle;\n",
       "    }\n",
       "\n",
       "    .dataframe tbody tr th {\n",
       "        vertical-align: top;\n",
       "    }\n",
       "\n",
       "    .dataframe thead th {\n",
       "        text-align: right;\n",
       "    }\n",
       "</style>\n",
       "<table border=\"1\" class=\"dataframe\">\n",
       "  <thead>\n",
       "    <tr style=\"text-align: right;\">\n",
       "      <th></th>\n",
       "      <th>0</th>\n",
       "    </tr>\n",
       "  </thead>\n",
       "  <tbody>\n",
       "    <tr>\n",
       "      <th>0</th>\n",
       "      <td>http://www.skofija-novomesto.si/</td>\n",
       "    </tr>\n",
       "    <tr>\n",
       "      <th>1</th>\n",
       "      <td>http://ferlafashion.com/saint/www.loginalibaba...</td>\n",
       "    </tr>\n",
       "    <tr>\n",
       "      <th>2</th>\n",
       "      <td>http://spatrendonline.hu</td>\n",
       "    </tr>\n",
       "    <tr>\n",
       "      <th>3</th>\n",
       "      <td>http://defensasur.com.ar</td>\n",
       "    </tr>\n",
       "    <tr>\n",
       "      <th>4</th>\n",
       "      <td>http://www.digitalvd.de/dvds/37399</td>\n",
       "    </tr>\n",
       "    <tr>\n",
       "      <th>...</th>\n",
       "      <td>...</td>\n",
       "    </tr>\n",
       "    <tr>\n",
       "      <th>25214</th>\n",
       "      <td>http://mohaseban.org</td>\n",
       "    </tr>\n",
       "    <tr>\n",
       "      <th>25215</th>\n",
       "      <td>https://www.la-croix.com/</td>\n",
       "    </tr>\n",
       "    <tr>\n",
       "      <th>25216</th>\n",
       "      <td>http://bit.ly/2CbFTLv</td>\n",
       "    </tr>\n",
       "    <tr>\n",
       "      <th>25217</th>\n",
       "      <td>http://beautyatjessicas.com.au/wp-content/uplo...</td>\n",
       "    </tr>\n",
       "    <tr>\n",
       "      <th>25218</th>\n",
       "      <td>http://www.la-taverne-des-aventuriers.com/t457...</td>\n",
       "    </tr>\n",
       "  </tbody>\n",
       "</table>\n",
       "<p>25219 rows × 1 columns</p>\n",
       "</div>"
      ],
      "text/plain": [
       "                                                       0\n",
       "0                       http://www.skofija-novomesto.si/\n",
       "1      http://ferlafashion.com/saint/www.loginalibaba...\n",
       "2                               http://spatrendonline.hu\n",
       "3                               http://defensasur.com.ar\n",
       "4                     http://www.digitalvd.de/dvds/37399\n",
       "...                                                  ...\n",
       "25214                               http://mohaseban.org\n",
       "25215                          https://www.la-croix.com/\n",
       "25216                              http://bit.ly/2CbFTLv\n",
       "25217  http://beautyatjessicas.com.au/wp-content/uplo...\n",
       "25218  http://www.la-taverne-des-aventuriers.com/t457...\n",
       "\n",
       "[25219 rows x 1 columns]"
      ]
     },
     "execution_count": 5,
     "metadata": {},
     "output_type": "execute_result"
    }
   ],
   "source": [
    "df1"
   ]
  },
  {
   "cell_type": "code",
   "execution_count": 6,
   "id": "f200a6b6",
   "metadata": {},
   "outputs": [
    {
     "data": {
      "text/html": [
       "<div>\n",
       "<style scoped>\n",
       "    .dataframe tbody tr th:only-of-type {\n",
       "        vertical-align: middle;\n",
       "    }\n",
       "\n",
       "    .dataframe tbody tr th {\n",
       "        vertical-align: top;\n",
       "    }\n",
       "\n",
       "    .dataframe thead th {\n",
       "        text-align: right;\n",
       "    }\n",
       "</style>\n",
       "<table border=\"1\" class=\"dataframe\">\n",
       "  <thead>\n",
       "    <tr style=\"text-align: right;\">\n",
       "      <th></th>\n",
       "      <th>urls_name</th>\n",
       "      <th>0</th>\n",
       "    </tr>\n",
       "  </thead>\n",
       "  <tbody>\n",
       "    <tr>\n",
       "      <th>0</th>\n",
       "      <td>http://yasli-sad.ru/css/chase/chaseall%20newin...</td>\n",
       "      <td>1</td>\n",
       "    </tr>\n",
       "    <tr>\n",
       "      <th>1</th>\n",
       "      <td>http://denizkent.net/wp-admin/js/login.alibaba...</td>\n",
       "      <td>1</td>\n",
       "    </tr>\n",
       "    <tr>\n",
       "      <th>2</th>\n",
       "      <td>http://www.marketbiz.net/mbz/wp-includes/js/jq...</td>\n",
       "      <td>1</td>\n",
       "    </tr>\n",
       "    <tr>\n",
       "      <th>3</th>\n",
       "      <td>http://guardiaoitau30horas.uniclassdispositivo...</td>\n",
       "      <td>1</td>\n",
       "    </tr>\n",
       "    <tr>\n",
       "      <th>4</th>\n",
       "      <td>http://chancejumpers.com/christmas/christmas-h...</td>\n",
       "      <td>0</td>\n",
       "    </tr>\n",
       "  </tbody>\n",
       "</table>\n",
       "</div>"
      ],
      "text/plain": [
       "                                           urls_name  0\n",
       "0  http://yasli-sad.ru/css/chase/chaseall%20newin...  1\n",
       "1  http://denizkent.net/wp-admin/js/login.alibaba...  1\n",
       "2  http://www.marketbiz.net/mbz/wp-includes/js/jq...  1\n",
       "3  http://guardiaoitau30horas.uniclassdispositivo...  1\n",
       "4  http://chancejumpers.com/christmas/christmas-h...  0"
      ]
     },
     "execution_count": 6,
     "metadata": {},
     "output_type": "execute_result"
    }
   ],
   "source": [
    "df.head()"
   ]
  },
  {
   "cell_type": "code",
   "execution_count": 7,
   "id": "180f36b1",
   "metadata": {},
   "outputs": [
    {
     "data": {
      "text/html": [
       "<div>\n",
       "<style scoped>\n",
       "    .dataframe tbody tr th:only-of-type {\n",
       "        vertical-align: middle;\n",
       "    }\n",
       "\n",
       "    .dataframe tbody tr th {\n",
       "        vertical-align: top;\n",
       "    }\n",
       "\n",
       "    .dataframe thead th {\n",
       "        text-align: right;\n",
       "    }\n",
       "</style>\n",
       "<table border=\"1\" class=\"dataframe\">\n",
       "  <thead>\n",
       "    <tr style=\"text-align: right;\">\n",
       "      <th></th>\n",
       "      <th>urls_name</th>\n",
       "      <th>0</th>\n",
       "    </tr>\n",
       "  </thead>\n",
       "  <tbody>\n",
       "    <tr>\n",
       "      <th>100854</th>\n",
       "      <td>http://crop-topsnn.oucreate.com/grn/</td>\n",
       "      <td>1</td>\n",
       "    </tr>\n",
       "    <tr>\n",
       "      <th>100855</th>\n",
       "      <td>http://jacksonvillenursinghomelawyers.com/Driv...</td>\n",
       "      <td>1</td>\n",
       "    </tr>\n",
       "    <tr>\n",
       "      <th>100856</th>\n",
       "      <td>http://www.smallappliance.com/product.asp?cur=...</td>\n",
       "      <td>0</td>\n",
       "    </tr>\n",
       "    <tr>\n",
       "      <th>100857</th>\n",
       "      <td>http://www.skofija-novomesto.si/</td>\n",
       "      <td>0</td>\n",
       "    </tr>\n",
       "    <tr>\n",
       "      <th>100858</th>\n",
       "      <td>http://ferlafashion.com/saint/www.loginalibaba...</td>\n",
       "      <td>1</td>\n",
       "    </tr>\n",
       "  </tbody>\n",
       "</table>\n",
       "</div>"
      ],
      "text/plain": [
       "                                                urls_name  0\n",
       "100854               http://crop-topsnn.oucreate.com/grn/  1\n",
       "100855  http://jacksonvillenursinghomelawyers.com/Driv...  1\n",
       "100856  http://www.smallappliance.com/product.asp?cur=...  0\n",
       "100857                   http://www.skofija-novomesto.si/  0\n",
       "100858  http://ferlafashion.com/saint/www.loginalibaba...  1"
      ]
     },
     "execution_count": 7,
     "metadata": {},
     "output_type": "execute_result"
    }
   ],
   "source": [
    "df.tail()"
   ]
  },
  {
   "cell_type": "code",
   "execution_count": 8,
   "id": "c9e35e20",
   "metadata": {},
   "outputs": [
    {
     "data": {
      "text/plain": [
       "urls_name    0\n",
       "0            0\n",
       "dtype: int64"
      ]
     },
     "execution_count": 8,
     "metadata": {},
     "output_type": "execute_result"
    }
   ],
   "source": [
    "df.isnull().sum()"
   ]
  },
  {
   "cell_type": "code",
   "execution_count": 9,
   "id": "3b338478",
   "metadata": {},
   "outputs": [
    {
     "name": "stdout",
     "output_type": "stream",
     "text": [
      "<class 'pandas.core.frame.DataFrame'>\n",
      "RangeIndex: 100859 entries, 0 to 100858\n",
      "Data columns (total 2 columns):\n",
      " #   Column     Non-Null Count   Dtype \n",
      "---  ------     --------------   ----- \n",
      " 0   urls_name  100859 non-null  object\n",
      " 1   0          100859 non-null  int64 \n",
      "dtypes: int64(1), object(1)\n",
      "memory usage: 1.5+ MB\n"
     ]
    }
   ],
   "source": [
    "df.info()"
   ]
  },
  {
   "cell_type": "code",
   "execution_count": 10,
   "id": "c340e374",
   "metadata": {},
   "outputs": [],
   "source": [
    "df=df.dropna()"
   ]
  },
  {
   "cell_type": "code",
   "execution_count": 11,
   "id": "3e9e2629",
   "metadata": {},
   "outputs": [
    {
     "data": {
      "text/html": [
       "<div>\n",
       "<style scoped>\n",
       "    .dataframe tbody tr th:only-of-type {\n",
       "        vertical-align: middle;\n",
       "    }\n",
       "\n",
       "    .dataframe tbody tr th {\n",
       "        vertical-align: top;\n",
       "    }\n",
       "\n",
       "    .dataframe thead th {\n",
       "        text-align: right;\n",
       "    }\n",
       "</style>\n",
       "<table border=\"1\" class=\"dataframe\">\n",
       "  <thead>\n",
       "    <tr style=\"text-align: right;\">\n",
       "      <th></th>\n",
       "      <th>urls_name</th>\n",
       "      <th>0</th>\n",
       "    </tr>\n",
       "  </thead>\n",
       "  <tbody>\n",
       "    <tr>\n",
       "      <th>0</th>\n",
       "      <td>http://yasli-sad.ru/css/chase/chaseall%20newin...</td>\n",
       "      <td>1</td>\n",
       "    </tr>\n",
       "    <tr>\n",
       "      <th>1</th>\n",
       "      <td>http://denizkent.net/wp-admin/js/login.alibaba...</td>\n",
       "      <td>1</td>\n",
       "    </tr>\n",
       "    <tr>\n",
       "      <th>2</th>\n",
       "      <td>http://www.marketbiz.net/mbz/wp-includes/js/jq...</td>\n",
       "      <td>1</td>\n",
       "    </tr>\n",
       "    <tr>\n",
       "      <th>3</th>\n",
       "      <td>http://guardiaoitau30horas.uniclassdispositivo...</td>\n",
       "      <td>1</td>\n",
       "    </tr>\n",
       "    <tr>\n",
       "      <th>4</th>\n",
       "      <td>http://chancejumpers.com/christmas/christmas-h...</td>\n",
       "      <td>0</td>\n",
       "    </tr>\n",
       "    <tr>\n",
       "      <th>...</th>\n",
       "      <td>...</td>\n",
       "      <td>...</td>\n",
       "    </tr>\n",
       "    <tr>\n",
       "      <th>100854</th>\n",
       "      <td>http://crop-topsnn.oucreate.com/grn/</td>\n",
       "      <td>1</td>\n",
       "    </tr>\n",
       "    <tr>\n",
       "      <th>100855</th>\n",
       "      <td>http://jacksonvillenursinghomelawyers.com/Driv...</td>\n",
       "      <td>1</td>\n",
       "    </tr>\n",
       "    <tr>\n",
       "      <th>100856</th>\n",
       "      <td>http://www.smallappliance.com/product.asp?cur=...</td>\n",
       "      <td>0</td>\n",
       "    </tr>\n",
       "    <tr>\n",
       "      <th>100857</th>\n",
       "      <td>http://www.skofija-novomesto.si/</td>\n",
       "      <td>0</td>\n",
       "    </tr>\n",
       "    <tr>\n",
       "      <th>100858</th>\n",
       "      <td>http://ferlafashion.com/saint/www.loginalibaba...</td>\n",
       "      <td>1</td>\n",
       "    </tr>\n",
       "  </tbody>\n",
       "</table>\n",
       "<p>100859 rows × 2 columns</p>\n",
       "</div>"
      ],
      "text/plain": [
       "                                                urls_name  0\n",
       "0       http://yasli-sad.ru/css/chase/chaseall%20newin...  1\n",
       "1       http://denizkent.net/wp-admin/js/login.alibaba...  1\n",
       "2       http://www.marketbiz.net/mbz/wp-includes/js/jq...  1\n",
       "3       http://guardiaoitau30horas.uniclassdispositivo...  1\n",
       "4       http://chancejumpers.com/christmas/christmas-h...  0\n",
       "...                                                   ... ..\n",
       "100854               http://crop-topsnn.oucreate.com/grn/  1\n",
       "100855  http://jacksonvillenursinghomelawyers.com/Driv...  1\n",
       "100856  http://www.smallappliance.com/product.asp?cur=...  0\n",
       "100857                   http://www.skofija-novomesto.si/  0\n",
       "100858  http://ferlafashion.com/saint/www.loginalibaba...  1\n",
       "\n",
       "[100859 rows x 2 columns]"
      ]
     },
     "execution_count": 11,
     "metadata": {},
     "output_type": "execute_result"
    }
   ],
   "source": [
    "df"
   ]
  },
  {
   "cell_type": "code",
   "execution_count": 12,
   "id": "51d80057",
   "metadata": {},
   "outputs": [],
   "source": [
    "df['urls_name']=df['urls_name'].apply(lambda x:x.replace(\"://\",\" \"))\n",
    "df['urls_name']=df['urls_name'].apply(lambda x:x.replace(\".\",\" \"))\n",
    "df['urls_name']=df['urls_name'].apply(lambda x:x.replace(\"/\",\" \"))\n",
    "df['urls_name']=df['urls_name'].apply(lambda x:x.replace(\"?\",\" \"))\n",
    "df['urls_name']=df['urls_name'].apply(lambda x:x.replace(\"%20\",\" \"))\n",
    "df['urls_name']=df['urls_name'].apply(lambda x:x.replace(\"-\",\" \"))\n"
   ]
  },
  {
   "cell_type": "code",
   "execution_count": 13,
   "id": "b9887fb6",
   "metadata": {},
   "outputs": [],
   "source": [
    "df1.iloc[:,0] = df1.iloc[:,0].apply(lambda x:x.replace(\"://\",\" \"))\n",
    "df1.iloc[:,0] = df1.iloc[:,0].apply(lambda x:x.replace(\".\",\" \"))\n",
    "df1.iloc[:,0] = df1.iloc[:,0].apply(lambda x:x.replace(\"/\",\" \"))\n",
    "df1.iloc[:,0] = df1.iloc[:,0].apply(lambda x:x.replace(\"?\",\" \"))\n",
    "df1.iloc[:,0] = df1.iloc[:,0].apply(lambda x:x.replace(\"%20\",\" \"))\n",
    "df1.iloc[:,0] = df1.iloc[:,0].apply(lambda x:x.replace(\"-\",\" \"))\n"
   ]
  },
  {
   "cell_type": "code",
   "execution_count": 14,
   "id": "23ed7dad",
   "metadata": {},
   "outputs": [
    {
     "data": {
      "text/html": [
       "<div>\n",
       "<style scoped>\n",
       "    .dataframe tbody tr th:only-of-type {\n",
       "        vertical-align: middle;\n",
       "    }\n",
       "\n",
       "    .dataframe tbody tr th {\n",
       "        vertical-align: top;\n",
       "    }\n",
       "\n",
       "    .dataframe thead th {\n",
       "        text-align: right;\n",
       "    }\n",
       "</style>\n",
       "<table border=\"1\" class=\"dataframe\">\n",
       "  <thead>\n",
       "    <tr style=\"text-align: right;\">\n",
       "      <th></th>\n",
       "      <th>0</th>\n",
       "    </tr>\n",
       "  </thead>\n",
       "  <tbody>\n",
       "    <tr>\n",
       "      <th>0</th>\n",
       "      <td>http www skofija novomesto si</td>\n",
       "    </tr>\n",
       "    <tr>\n",
       "      <th>1</th>\n",
       "      <td>http ferlafashion com saint www loginalibaba c...</td>\n",
       "    </tr>\n",
       "    <tr>\n",
       "      <th>2</th>\n",
       "      <td>http spatrendonline hu</td>\n",
       "    </tr>\n",
       "    <tr>\n",
       "      <th>3</th>\n",
       "      <td>http defensasur com ar</td>\n",
       "    </tr>\n",
       "    <tr>\n",
       "      <th>4</th>\n",
       "      <td>http www digitalvd de dvds 37399</td>\n",
       "    </tr>\n",
       "    <tr>\n",
       "      <th>...</th>\n",
       "      <td>...</td>\n",
       "    </tr>\n",
       "    <tr>\n",
       "      <th>25214</th>\n",
       "      <td>http mohaseban org</td>\n",
       "    </tr>\n",
       "    <tr>\n",
       "      <th>25215</th>\n",
       "      <td>https www la croix com</td>\n",
       "    </tr>\n",
       "    <tr>\n",
       "      <th>25216</th>\n",
       "      <td>http bit ly 2CbFTLv</td>\n",
       "    </tr>\n",
       "    <tr>\n",
       "      <th>25217</th>\n",
       "      <td>http beautyatjessicas com au wp content upload...</td>\n",
       "    </tr>\n",
       "    <tr>\n",
       "      <th>25218</th>\n",
       "      <td>http www la taverne des aventuriers com t4575 ...</td>\n",
       "    </tr>\n",
       "  </tbody>\n",
       "</table>\n",
       "<p>25219 rows × 1 columns</p>\n",
       "</div>"
      ],
      "text/plain": [
       "                                                       0\n",
       "0                         http www skofija novomesto si \n",
       "1      http ferlafashion com saint www loginalibaba c...\n",
       "2                                 http spatrendonline hu\n",
       "3                                 http defensasur com ar\n",
       "4                       http www digitalvd de dvds 37399\n",
       "...                                                  ...\n",
       "25214                                 http mohaseban org\n",
       "25215                            https www la croix com \n",
       "25216                                http bit ly 2CbFTLv\n",
       "25217  http beautyatjessicas com au wp content upload...\n",
       "25218  http www la taverne des aventuriers com t4575 ...\n",
       "\n",
       "[25219 rows x 1 columns]"
      ]
     },
     "execution_count": 14,
     "metadata": {},
     "output_type": "execute_result"
    }
   ],
   "source": [
    "df1"
   ]
  },
  {
   "cell_type": "markdown",
   "id": "90dfc049",
   "metadata": {},
   "source": [
    "# CountVectorizer"
   ]
  },
  {
   "cell_type": "code",
   "execution_count": 15,
   "id": "ad1f3307",
   "metadata": {},
   "outputs": [],
   "source": [
    "from sklearn.feature_extraction.text import CountVectorizer\n"
   ]
  },
  {
   "cell_type": "code",
   "execution_count": 16,
   "id": "13d12c60",
   "metadata": {},
   "outputs": [],
   "source": [
    "vect=CountVectorizer()\n",
    "vector=vect.fit_transform(df['urls_name'])"
   ]
  },
  {
   "cell_type": "code",
   "execution_count": 17,
   "id": "24cefcaf",
   "metadata": {},
   "outputs": [
    {
     "data": {
      "text/plain": [
       "<100859x170196 sparse matrix of type '<class 'numpy.int64'>'\n",
       "\twith 749483 stored elements in Compressed Sparse Row format>"
      ]
     },
     "execution_count": 17,
     "metadata": {},
     "output_type": "execute_result"
    }
   ],
   "source": [
    "vector"
   ]
  },
  {
   "cell_type": "code",
   "execution_count": 18,
   "id": "c8c5b231",
   "metadata": {},
   "outputs": [
    {
     "data": {
      "text/plain": [
       "(100859, 170196)"
      ]
     },
     "execution_count": 18,
     "metadata": {},
     "output_type": "execute_result"
    }
   ],
   "source": [
    "vector.shape"
   ]
  },
  {
   "cell_type": "markdown",
   "id": "22f18535",
   "metadata": {},
   "source": [
    "# TfidfVectorizer"
   ]
  },
  {
   "cell_type": "code",
   "execution_count": 19,
   "id": "a2858ee2",
   "metadata": {},
   "outputs": [],
   "source": [
    "from sklearn.feature_extraction.text import TfidfVectorizer\n"
   ]
  },
  {
   "cell_type": "code",
   "execution_count": 20,
   "id": "419d2a6a",
   "metadata": {},
   "outputs": [],
   "source": [
    "vect1=TfidfVectorizer\n",
    "vector1=vect.fit_transform(df['urls_name'])"
   ]
  },
  {
   "cell_type": "code",
   "execution_count": 21,
   "id": "f25159f5",
   "metadata": {},
   "outputs": [
    {
     "data": {
      "text/plain": [
       "(100859, 170196)"
      ]
     },
     "execution_count": 21,
     "metadata": {},
     "output_type": "execute_result"
    }
   ],
   "source": [
    "vector1.shape"
   ]
  },
  {
   "cell_type": "code",
   "execution_count": 22,
   "id": "63108e8d",
   "metadata": {},
   "outputs": [
    {
     "data": {
      "text/plain": [
       "<100859x170196 sparse matrix of type '<class 'numpy.int64'>'\n",
       "\twith 749483 stored elements in Compressed Sparse Row format>"
      ]
     },
     "execution_count": 22,
     "metadata": {},
     "output_type": "execute_result"
    }
   ],
   "source": [
    "vector1"
   ]
  },
  {
   "cell_type": "markdown",
   "id": "73b3f022",
   "metadata": {},
   "source": [
    "# Splitting the data"
   ]
  },
  {
   "cell_type": "code",
   "execution_count": 23,
   "id": "68664dc6",
   "metadata": {},
   "outputs": [],
   "source": [
    "y=df['0']"
   ]
  },
  {
   "cell_type": "code",
   "execution_count": 24,
   "id": "8b294d75",
   "metadata": {},
   "outputs": [
    {
     "data": {
      "text/plain": [
       "0         1\n",
       "1         1\n",
       "2         1\n",
       "3         1\n",
       "4         0\n",
       "         ..\n",
       "100854    1\n",
       "100855    1\n",
       "100856    0\n",
       "100857    0\n",
       "100858    1\n",
       "Name: 0, Length: 100859, dtype: int64"
      ]
     },
     "execution_count": 24,
     "metadata": {},
     "output_type": "execute_result"
    }
   ],
   "source": [
    "y"
   ]
  },
  {
   "cell_type": "code",
   "execution_count": 25,
   "id": "96a222ff",
   "metadata": {},
   "outputs": [],
   "source": [
    "x=vector"
   ]
  },
  {
   "cell_type": "code",
   "execution_count": 26,
   "id": "5d184d0c",
   "metadata": {},
   "outputs": [
    {
     "data": {
      "text/plain": [
       "<100859x170196 sparse matrix of type '<class 'numpy.int64'>'\n",
       "\twith 749483 stored elements in Compressed Sparse Row format>"
      ]
     },
     "execution_count": 26,
     "metadata": {},
     "output_type": "execute_result"
    }
   ],
   "source": [
    "x"
   ]
  },
  {
   "cell_type": "code",
   "execution_count": 27,
   "id": "a9963c22",
   "metadata": {
    "scrolled": true
   },
   "outputs": [
    {
     "name": "stdout",
     "output_type": "stream",
     "text": [
      "[ 20172  20173  20174 ... 100856 100857 100858] [    0     1     2 ... 20169 20170 20171]\n",
      "[     0      1      2 ... 100856 100857 100858] [20172 20173 20174 ... 40341 40342 40343]\n",
      "[     0      1      2 ... 100856 100857 100858] [40344 40345 40346 ... 60513 60514 60515]\n",
      "[     0      1      2 ... 100856 100857 100858] [60516 60517 60518 ... 80685 80686 80687]\n",
      "[    0     1     2 ... 80685 80686 80687] [ 80688  80689  80690 ... 100856 100857 100858]\n"
     ]
    }
   ],
   "source": [
    "from sklearn.model_selection import KFold\n",
    "import numpy as np\n",
    "\n",
    "k_fold = KFold(n_splits=5)\n",
    "for indices_train, indices_test in k_fold.split(x):\n",
    "    print(indices_train, indices_test)"
   ]
  },
  {
   "cell_type": "markdown",
   "id": "ad790fea",
   "metadata": {},
   "source": [
    "# Training of data"
   ]
  },
  {
   "cell_type": "code",
   "execution_count": 28,
   "id": "f4fb82d6",
   "metadata": {},
   "outputs": [],
   "source": [
    "from sklearn.model_selection import train_test_split\n",
    "x_train,y_train,x_test,y_test=train_test_split(x,y,test_size=0.2)"
   ]
  },
  {
   "cell_type": "code",
   "execution_count": 29,
   "id": "a087bed1",
   "metadata": {},
   "outputs": [],
   "source": [
    "from sklearn.model_selection import cross_val_score, train_test_split\n",
    "from sklearn.metrics import mean_squared_error\n",
    "def train(model, X, y):\n",
    "    # train the model\n",
    "    x_train, x_test, y_train, y_test = train_test_split(X, y,test_size=0.2, random_state=42)\n",
    "    model.fit(x_train, y_train)\n",
    "    \n",
    "    # predict the training set\n",
    "    pred = model.predict(x_test)\n",
    "    print(\"accuracy\",model.score(x_test,y_test))"
   ]
  },
  {
   "cell_type": "markdown",
   "id": "b5eb69c6",
   "metadata": {},
   "source": [
    "# Logistic Regression"
   ]
  },
  {
   "cell_type": "code",
   "execution_count": 30,
   "id": "00a91874",
   "metadata": {
    "scrolled": true
   },
   "outputs": [
    {
     "name": "stdout",
     "output_type": "stream",
     "text": [
      "accuracy 0.9265813999603411\n"
     ]
    },
    {
     "name": "stderr",
     "output_type": "stream",
     "text": [
      "C:\\Users\\jyoth\\OneDrive\\Desktop\\PSP\\lib\\site-packages\\sklearn\\linear_model\\_logistic.py:444: ConvergenceWarning: lbfgs failed to converge (status=1):\n",
      "STOP: TOTAL NO. of ITERATIONS REACHED LIMIT.\n",
      "\n",
      "Increase the number of iterations (max_iter) or scale the data as shown in:\n",
      "    https://scikit-learn.org/stable/modules/preprocessing.html\n",
      "Please also refer to the documentation for alternative solver options:\n",
      "    https://scikit-learn.org/stable/modules/linear_model.html#logistic-regression\n",
      "  n_iter_i = _check_optimize_result(\n"
     ]
    }
   ],
   "source": [
    "from sklearn.linear_model import LogisticRegression\n",
    "model = LogisticRegression()\n",
    "train(model,x,y)"
   ]
  },
  {
   "cell_type": "markdown",
   "id": "46a79055",
   "metadata": {},
   "source": [
    "# MultinomialNB"
   ]
  },
  {
   "cell_type": "code",
   "execution_count": 31,
   "id": "683cae5e",
   "metadata": {},
   "outputs": [
    {
     "name": "stdout",
     "output_type": "stream",
     "text": [
      "accuracy 0.930299424945469\n"
     ]
    }
   ],
   "source": [
    "from sklearn.naive_bayes import MultinomialNB\n",
    "model2 = MultinomialNB()\n",
    "train(model2,x,y)"
   ]
  },
  {
   "cell_type": "markdown",
   "id": "1a383912",
   "metadata": {},
   "source": [
    "# Saving in pickle"
   ]
  },
  {
   "cell_type": "code",
   "execution_count": 32,
   "id": "f24c484d",
   "metadata": {},
   "outputs": [],
   "source": [
    "import pickle\n",
    "filename=\"deep.pkl\"\n",
    "pickle.dump(model,open(filename,'wb'))"
   ]
  },
  {
   "cell_type": "code",
   "execution_count": 33,
   "id": "a67a1dce",
   "metadata": {},
   "outputs": [],
   "source": [
    "load_model=pickle.load(open(filename,'rb'))"
   ]
  },
  {
   "cell_type": "code",
   "execution_count": 34,
   "id": "03bae809",
   "metadata": {},
   "outputs": [],
   "source": [
    "vector=vect.transform(df1.iloc[:,0])"
   ]
  },
  {
   "cell_type": "code",
   "execution_count": 35,
   "id": "22817b6c",
   "metadata": {},
   "outputs": [],
   "source": [
    "y_pred = load_model.predict(vector)"
   ]
  },
  {
   "cell_type": "code",
   "execution_count": 36,
   "id": "d505d25c",
   "metadata": {},
   "outputs": [],
   "source": [
    "test_df = pd.DataFrame()"
   ]
  },
  {
   "cell_type": "code",
   "execution_count": 37,
   "id": "30f7c3cb",
   "metadata": {},
   "outputs": [],
   "source": [
    "test_df['a'] = y_pred"
   ]
  },
  {
   "cell_type": "code",
   "execution_count": 39,
   "id": "230d8ffe",
   "metadata": {},
   "outputs": [],
   "source": [
    "test_df.to_csv(r'C:\\Users\\jyoth\\Desktop\\model\\res8.csv', index = False)"
   ]
  },
  {
   "cell_type": "code",
   "execution_count": 40,
   "id": "c04b3cc7",
   "metadata": {},
   "outputs": [
    {
     "data": {
      "text/html": [
       "<div>\n",
       "<style scoped>\n",
       "    .dataframe tbody tr th:only-of-type {\n",
       "        vertical-align: middle;\n",
       "    }\n",
       "\n",
       "    .dataframe tbody tr th {\n",
       "        vertical-align: top;\n",
       "    }\n",
       "\n",
       "    .dataframe thead th {\n",
       "        text-align: right;\n",
       "    }\n",
       "</style>\n",
       "<table border=\"1\" class=\"dataframe\">\n",
       "  <thead>\n",
       "    <tr style=\"text-align: right;\">\n",
       "      <th></th>\n",
       "      <th>a</th>\n",
       "    </tr>\n",
       "  </thead>\n",
       "  <tbody>\n",
       "    <tr>\n",
       "      <th>0</th>\n",
       "      <td>0</td>\n",
       "    </tr>\n",
       "    <tr>\n",
       "      <th>1</th>\n",
       "      <td>1</td>\n",
       "    </tr>\n",
       "    <tr>\n",
       "      <th>2</th>\n",
       "      <td>0</td>\n",
       "    </tr>\n",
       "    <tr>\n",
       "      <th>3</th>\n",
       "      <td>0</td>\n",
       "    </tr>\n",
       "    <tr>\n",
       "      <th>4</th>\n",
       "      <td>0</td>\n",
       "    </tr>\n",
       "    <tr>\n",
       "      <th>...</th>\n",
       "      <td>...</td>\n",
       "    </tr>\n",
       "    <tr>\n",
       "      <th>25214</th>\n",
       "      <td>0</td>\n",
       "    </tr>\n",
       "    <tr>\n",
       "      <th>25215</th>\n",
       "      <td>0</td>\n",
       "    </tr>\n",
       "    <tr>\n",
       "      <th>25216</th>\n",
       "      <td>1</td>\n",
       "    </tr>\n",
       "    <tr>\n",
       "      <th>25217</th>\n",
       "      <td>1</td>\n",
       "    </tr>\n",
       "    <tr>\n",
       "      <th>25218</th>\n",
       "      <td>0</td>\n",
       "    </tr>\n",
       "  </tbody>\n",
       "</table>\n",
       "<p>25219 rows × 1 columns</p>\n",
       "</div>"
      ],
      "text/plain": [
       "       a\n",
       "0      0\n",
       "1      1\n",
       "2      0\n",
       "3      0\n",
       "4      0\n",
       "...   ..\n",
       "25214  0\n",
       "25215  0\n",
       "25216  1\n",
       "25217  1\n",
       "25218  0\n",
       "\n",
       "[25219 rows x 1 columns]"
      ]
     },
     "execution_count": 40,
     "metadata": {},
     "output_type": "execute_result"
    }
   ],
   "source": [
    "test_df"
   ]
  },
  {
   "cell_type": "markdown",
   "id": "bdb5a94b",
   "metadata": {},
   "source": [
    "# XGBClassifier"
   ]
  },
  {
   "cell_type": "code",
   "execution_count": 41,
   "id": "447df1d9",
   "metadata": {},
   "outputs": [],
   "source": [
    "from xgboost import XGBClassifier"
   ]
  },
  {
   "cell_type": "code",
   "execution_count": 42,
   "id": "d5990dce",
   "metadata": {},
   "outputs": [
    {
     "name": "stdout",
     "output_type": "stream",
     "text": [
      "accuracy 0.8824112631370216\n"
     ]
    }
   ],
   "source": [
    "model1=XGBClassifier()\n",
    "train(model1,x,y)"
   ]
  },
  {
   "cell_type": "code",
   "execution_count": 43,
   "id": "2449210e",
   "metadata": {},
   "outputs": [],
   "source": [
    "filename=\"deep1.pkl\"\n",
    "pickle.dump(model1,open(filename,'wb'))"
   ]
  },
  {
   "cell_type": "code",
   "execution_count": 44,
   "id": "3072c548",
   "metadata": {},
   "outputs": [],
   "source": [
    "load_model1=pickle.load(open(filename,'rb'))"
   ]
  },
  {
   "cell_type": "code",
   "execution_count": 45,
   "id": "a9c14228",
   "metadata": {},
   "outputs": [],
   "source": [
    "vector=vect.transform(df1.iloc[:,0])"
   ]
  },
  {
   "cell_type": "code",
   "execution_count": 46,
   "id": "26f20073",
   "metadata": {},
   "outputs": [],
   "source": [
    "y_pred = load_model1.predict(vector)"
   ]
  },
  {
   "cell_type": "code",
   "execution_count": 47,
   "id": "5e23e113",
   "metadata": {},
   "outputs": [],
   "source": [
    "test_df1 = pd.DataFrame()"
   ]
  },
  {
   "cell_type": "code",
   "execution_count": 48,
   "id": "1b665a6c",
   "metadata": {},
   "outputs": [],
   "source": [
    "test_df1['a'] = y_pred"
   ]
  },
  {
   "cell_type": "code",
   "execution_count": 49,
   "id": "a03bb25a",
   "metadata": {},
   "outputs": [],
   "source": [
    "test_df1.to_csv(r'C:\\Users\\jyoth\\Desktop\\model\\res5.csv', index = False)"
   ]
  },
  {
   "cell_type": "code",
   "execution_count": 50,
   "id": "af102635",
   "metadata": {},
   "outputs": [],
   "source": [
    "filename=\"deep2.pkl\"\n",
    "pickle.dump(model2,open(filename,'wb'))"
   ]
  },
  {
   "cell_type": "code",
   "execution_count": 51,
   "id": "f148cbd9",
   "metadata": {},
   "outputs": [],
   "source": [
    "load_model2=pickle.load(open(filename,'rb'))"
   ]
  },
  {
   "cell_type": "code",
   "execution_count": 52,
   "id": "90474873",
   "metadata": {},
   "outputs": [],
   "source": [
    "vector=vect.transform(df1.iloc[:,0])\n"
   ]
  },
  {
   "cell_type": "code",
   "execution_count": 53,
   "id": "0edaac08",
   "metadata": {},
   "outputs": [],
   "source": [
    "y_pred = load_model2.predict(vector)"
   ]
  },
  {
   "cell_type": "code",
   "execution_count": 54,
   "id": "92b75ae1",
   "metadata": {},
   "outputs": [],
   "source": [
    "test_df2 = pd.DataFrame()"
   ]
  },
  {
   "cell_type": "code",
   "execution_count": 55,
   "id": "d1aa0d97",
   "metadata": {},
   "outputs": [],
   "source": [
    "test_df2['a'] = y_pred"
   ]
  },
  {
   "cell_type": "code",
   "execution_count": 56,
   "id": "a9ee84ce",
   "metadata": {},
   "outputs": [],
   "source": [
    "test_df2.to_csv(r'C:\\Users\\jyoth\\Desktop\\model\\res6.csv', index = False)"
   ]
  },
  {
   "cell_type": "code",
   "execution_count": null,
   "id": "564e6ee7",
   "metadata": {},
   "outputs": [],
   "source": []
  },
  {
   "cell_type": "code",
   "execution_count": null,
   "id": "c904ad13",
   "metadata": {},
   "outputs": [],
   "source": []
  },
  {
   "cell_type": "code",
   "execution_count": null,
   "id": "83977460",
   "metadata": {},
   "outputs": [],
   "source": []
  },
  {
   "cell_type": "code",
   "execution_count": null,
   "id": "ee54e9e0",
   "metadata": {},
   "outputs": [],
   "source": []
  },
  {
   "cell_type": "code",
   "execution_count": null,
   "id": "a53aaaf9",
   "metadata": {},
   "outputs": [],
   "source": []
  }
 ],
 "metadata": {
  "kernelspec": {
   "display_name": "Python 3 (ipykernel)",
   "language": "python",
   "name": "python3"
  },
  "language_info": {
   "codemirror_mode": {
    "name": "ipython",
    "version": 3
   },
   "file_extension": ".py",
   "mimetype": "text/x-python",
   "name": "python",
   "nbconvert_exporter": "python",
   "pygments_lexer": "ipython3",
   "version": "3.10.5"
  }
 },
 "nbformat": 4,
 "nbformat_minor": 5
}
